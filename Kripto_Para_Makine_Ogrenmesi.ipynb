{
 "cells": [
  {
   "cell_type": "markdown",
   "metadata": {},
   "source": [
    "Konu: Kripto paraların makine öğrenmesi ile değerlendirilmesi\n",
    "\n",
    "Kullanılan tüm modeller istatistiksel olarak geçerli tahminler yaptığından, kripto para piyasası tahmini için makine öğreniminin potansiyeli vardır.\n",
    "\n",
    "Kripto paraların modellenmesi için ilk adımda çeşitli kaynaklardan verilerin alınması gerekir.Tek bir kaynaktan veri alınmaz bu biosa sebebiyet verebilir.Birden çok platformdan alınan veriler modellemede kullanılacak olan ham fiyat verilerinden özellikler ve bunlara bağlı hedefler üretilir.\n",
    "\n",
    "Daha sonra ise yapılacak işlem veri setlerini değişen pazar içerisinde örtüşen ve örtüşmeyen çalışma dönemlerine bölerek düzenlemektir. Son adımımızda ise uygulanacak olan çalışma dönemleri için ayrı ayrı eğitilip ayarlanır ve model tahminlerine dayalı ticaret simüle edilir.\n",
    "\n",
    "\n",
    "Eğitim ve doğrulama bölümleri birlikte, modellerin eğitildiği ve doğrulama performansına göre her model için en iyi hiperparametrelerin seçildiği oluşum sürecini oluşturur. Her çalışma periyodunun test bölümü, numune dışı testler ve simüle ticaret için kullanılır. Çalışma periyotları, art arda değerlendirme için birbiriyle örtüşmeyen beş test setine izin vermek için test periyodunun uzunluğuna göre kaydırılır.\n",
    "Birden fazla çalışma periyodunun kullanılması, modellerin periyodik olarak yeniden eğitilmesine izin verir ve böylece değişen pazar evreleri nedeniyle ortaya çıkan kavram kaymasını yakalanır.\n",
    "çeşitli makine öğrenimi modelinden portföy getirileri,uzun-kısa portföyler, risk açısından al-ve tut piyasa portföyünden daha iyi performans gösterir.Çünkü zaman arttıkça hata oranıda artar."
   ]
  }
 ],
 "metadata": {
  "language_info": {
   "name": "python"
  },
  "orig_nbformat": 4
 },
 "nbformat": 4,
 "nbformat_minor": 2
}
